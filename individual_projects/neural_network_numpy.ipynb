{
 "cells": [
  {
   "cell_type": "code",
   "execution_count": 1,
   "id": "97196f22-4601-46f4-8fac-438ae321d8cc",
   "metadata": {},
   "outputs": [],
   "source": [
    "import numpy as np \n",
    "import matplotlib.pyplot as plt"
   ]
  },
  {
   "cell_type": "code",
   "execution_count": 2,
   "id": "d43d76fa-c04f-408d-b649-9f6f0d20167b",
   "metadata": {},
   "outputs": [
    {
     "data": {
      "text/plain": [
       "[[array([[0.68827071, 0.64432678, 0.27403592, 0.41529541, 0.27207038],\n",
       "         [0.24344739, 0.57866048, 0.32927765, 0.15924184, 0.95628539]]),\n",
       "  array([[0.74063847, 0.47795978, 0.34223529, 0.99659144, 0.18985352]])],\n",
       " [array([[0.48961312, 0.49153718],\n",
       "         [0.35438533, 0.81068416],\n",
       "         [0.69681605, 0.72101768],\n",
       "         [0.81606917, 0.27554852],\n",
       "         [0.8283124 , 0.72240237]]),\n",
       "  array([[0.83696346, 0.64665583]])]]"
      ]
     },
     "execution_count": 2,
     "metadata": {},
     "output_type": "execute_result"
    }
   ],
   "source": [
    "weights = [2,5,2]\n",
    "w_list=[]\n",
    "for i in range(len(weights)-1):\n",
    "    w1 = np.random.rand(weights[i],weights[i+1])\n",
    "    b1 = np.random.rand(1,weights[i+1])\n",
    "    w_list.append([w1,b1])\n",
    "\n",
    "w_list\n"
   ]
  },
  {
   "cell_type": "code",
   "execution_count": 3,
   "id": "13962b5a-eb8e-44d6-827c-725bff63dd81",
   "metadata": {},
   "outputs": [],
   "source": [
    "def sigmoid(a):\n",
    "    return 1/(1+np.exp(-a))\n",
    "\n",
    "def d_sigmoid(a):\n",
    "    return sigmoid(a)*(1-sigmoid(a))\n",
    "\n",
    "def softmax(a): \n",
    "    return np.exp(a) / np.exp(a).sum(axis=1)[:,None]    "
   ]
  },
  {
   "cell_type": "code",
   "execution_count": 4,
   "id": "e599ecc7-60ce-4d3b-a435-d21aad7dbc4d",
   "metadata": {},
   "outputs": [],
   "source": [
    "def forward_pass(x):\n",
    "#     print('x',x.shape)\n",
    "    a_list = []\n",
    "    h_list = []\n",
    "    a_list.append(0)\n",
    "    h_list.append(x)    \n",
    "    for i,[w,b] in enumerate(w_list):\n",
    "        \n",
    "        a = h_list[-1]@w + b \n",
    "        h = sigmoid(a)\n",
    "        \n",
    "        a_list.append(a)\n",
    "        h_list.append(h)\n",
    "    \n",
    "    y_hat = softmax(a_list[-1])\n",
    "    return a_list,h_list,y_hat\n",
    "\n",
    "train_x = np.array([[0,0],[0,1],[1,0],[1,1]])\n",
    "train_y = np.array([[0,1],[1,0],[1,0],[0,1]])\n",
    "# x=train_x[0].reshape(2,1)\n",
    "# y=train_y[0].reshape(2,1)\n",
    "\n",
    "# a_list,h_list,y_hat = forward_pass(train_x)"
   ]
  },
  {
   "cell_type": "code",
   "execution_count": 5,
   "id": "b8c847c5-e6c4-49eb-863b-8e8990f63a3f",
   "metadata": {},
   "outputs": [],
   "source": [
    "def backward_pass(x,a_list,h_list,y,y_hat):\n",
    "    da = -(y-y_hat)\n",
    "#     print(da2.shape,h1.shape)\n",
    "    dw_list = []\n",
    "#    output layer\n",
    "    for i in range(0,len(w_list)):\n",
    "        \n",
    "#         [3,5,2]\n",
    "#         i=0,1\n",
    "        \n",
    "        layer_no = len(w_list)-i-1 \n",
    "        \n",
    "        [w,b]=w_list[layer_no]\n",
    "        a = a_list[layer_no]\n",
    "        h = h_list[layer_no]\n",
    "        \n",
    "        \n",
    "#         print(h.T.shape,da.shape)\n",
    "        dw = h.T @ da\n",
    "        db = da.sum(axis=0)[None,:]\n",
    "\n",
    "#     print(w2.shape,da2.shape)\n",
    "        dh = da @ w.T\n",
    "    \n",
    "#     print(dh1.shape,a1.shape)\n",
    "        da = dh*d_sigmoid(a)\n",
    "        \n",
    "     \n",
    "        dw_list.insert(0,[dw,db])\n",
    "    \n",
    "    return dw_list\n",
    "\n",
    " \n",
    "# dw1,db1,dw2,db2 = backward_pass(train_x,a1,h1,a2,y_hat)\n",
    "# print(a1.shape,h1.shape,a2.shape) \n",
    "# print(dw2.shape,db2.shape)"
   ]
  },
  {
   "cell_type": "code",
   "execution_count": 6,
   "id": "074cf7b1-665e-489a-8b69-c20da020969d",
   "metadata": {},
   "outputs": [
    {
     "data": {
      "text/plain": [
       "(1, 3)"
      ]
     },
     "execution_count": 6,
     "metadata": {},
     "output_type": "execute_result"
    }
   ],
   "source": [
    "a = np.array([1,2,3])\n",
    "a[None,:].shape"
   ]
  },
  {
   "cell_type": "code",
   "execution_count": 11,
   "id": "031c52a3-aad2-4d33-ad03-f83d8b80156e",
   "metadata": {},
   "outputs": [
    {
     "name": "stdout",
     "output_type": "stream",
     "text": [
      "Avg,loss 0.09354581655288849\n",
      "CPU times: user 4.76 s, sys: 87.7 ms, total: 4.85 s\n",
      "Wall time: 4.76 s\n"
     ]
    },
    {
     "data": {
      "image/png": "[encoded data removed]",
      "text/plain": [
       "<Figure size 432x288 with 1 Axes>"
      ]
     },
     "metadata": {
      "needs_background": "light"
     },
     "output_type": "display_data"
    }
   ],
   "source": [
    "%%time\n",
    "\n",
    "from sklearn import datasets\n",
    "iris = datasets.load_iris()\n",
    "train_x = iris['data']\n",
    "# train_y = iris['target'].shape\n",
    "a = iris['target']\n",
    "b = np.zeros((a.size, a.max()+1))\n",
    "b[np.arange(a.size),a] = 1\n",
    "train_y = b.astype(int)\n",
    "weights = [4,10,3]\n",
    "\n",
    "\n",
    "train_x = np.array([[0,0,0],[0,0,1],[0,1,0],[0,1,1]])\n",
    "train_y = np.array([[0,1],[1,0],[1,0],[0,1]])\n",
    "weights = [3,10,2]\n",
    "\n",
    "w_list=[]\n",
    "for i in range(len(weights)-1):\n",
    "    w1 = np.random.rand(weights[i],weights[i+1])\n",
    "    b1 = np.random.rand(1,weights[i+1])\n",
    "    w_list.append([w1,b1])\n",
    "\n",
    "\n",
    "lr = np.array(.01)\n",
    "loss = []\n",
    "for i in range(100000):\n",
    "    x=train_x[i%len(train_x)][None,:]\n",
    "    y=train_y[i%len(train_x)][None,:]\n",
    "    a_list,h_list,y_hat  = forward_pass(x)\n",
    "    dw_list = backward_pass(x,a_list,h_list,y,y_hat)\n",
    "    \n",
    "    if i%20==0:\n",
    "        l = (-y*np.log(y_hat)).sum()\n",
    "        loss.append(l)\n",
    "        \n",
    "    \n",
    "#     dw_list  = lr*dw_list\n",
    "#         print(w_list[0][1])\n",
    "#     w_list = [list(map(lambda x, y: x - (lr*y), ii, jj)) for ii, jj in zip(w_list, dw_list)]\n",
    "    for i in range(len(w_list)):\n",
    "        w_list[i][0] = w_list[i][0] - lr*dw_list[i][0]\n",
    "        w_list[i][1] = w_list[i][1] - lr*dw_list[i][1]\n",
    "        \n",
    "        \n",
    "plt.plot(loss)\n",
    "print('Avg,loss',np.average(loss))\n"
   ]
  },
  {
   "cell_type": "code",
   "execution_count": 8,
   "id": "7be44196-b716-474a-9f27-e5d52c97dcc2",
   "metadata": {},
   "outputs": [
    {
     "data": {
      "text/plain": [
       "[[array([[ 0.29712182,  0.54764827,  0.29982945,  0.51031843,  0.4878247 ,\n",
       "           0.646439  ,  0.26405995,  0.70055161,  0.41702015,  0.66415303],\n",
       "         [ 5.9493733 ,  0.75105032,  2.04198399,  0.89469086,  0.52987447,\n",
       "           1.4108032 ,  0.79483331,  3.05600052,  4.19598094,  0.8589531 ],\n",
       "         [ 5.80920216,  1.56726024, -0.35069716,  0.43574074,  1.60970589,\n",
       "           0.83784821,  0.1483932 ,  3.35076838,  4.04553535,  1.20350604]]),\n",
       "  array([[-2.36241909, -1.48158564,  0.01365067, -0.25162328, -1.20879807,\n",
       "          -1.43304917,  0.50461338, -4.86411681, -1.36142769, -1.29630268]])],\n",
       " [array([[ 6.46066919, -5.8841244 ],\n",
       "         [-1.38690193,  2.4328276 ],\n",
       "         [-0.98764548,  2.34802879],\n",
       "         [-0.6400628 ,  1.7025152 ],\n",
       "         [-1.20200001,  2.29582611],\n",
       "         [-1.64630857,  1.98571375],\n",
       "         [-0.44361129,  1.29669424],\n",
       "         [-4.04363144,  5.1046421 ],\n",
       "         [ 4.24779071, -2.65349659],\n",
       "         [-1.0794194 ,  2.17210901]]),\n",
       "  array([[0.34474123, 1.30514579]])]]"
      ]
     },
     "execution_count": 8,
     "metadata": {},
     "output_type": "execute_result"
    }
   ],
   "source": [
    "[list(map(lambda x, y: x - y, ii, jj)) for ii, jj in zip(w_list, dw_list)]"
   ]
  },
  {
   "cell_type": "code",
   "execution_count": 12,
   "id": "63125bd7-76d6-4c95-bc9c-a6c94e352e99",
   "metadata": {},
   "outputs": [
    {
     "name": "stdout",
     "output_type": "stream",
     "text": [
      "[[0 1]\n",
      " [1 0]\n",
      " [1 0]\n",
      " [0 1]]\n",
      "[[ True  True]\n",
      " [ True  True]\n",
      " [ True  True]\n",
      " [ True  True]]\n",
      "[[0.00195094 0.99804906]\n",
      " [0.99364243 0.00635757]\n",
      " [0.99360428 0.00639572]\n",
      " [0.0093576  0.9906424 ]]\n"
     ]
    }
   ],
   "source": [
    "i=0\n",
    "x=train_x\n",
    "y=train_y\n",
    "a1_list,h1_list,y_hat =  forward_pass(x)\n",
    "print(y)\n",
    "print(np.around(y_hat).astype(int)==y)\n",
    "print(y_hat)"
   ]
  },
  {
   "cell_type": "code",
   "execution_count": 13,
   "id": "8fc245a0-e6f6-4cca-9387-97e963d12b28",
   "metadata": {},
   "outputs": [
    {
     "data": {
      "text/plain": [
       "(150, 3)"
      ]
     },
     "execution_count": 13,
     "metadata": {},
     "output_type": "execute_result"
    }
   ],
   "source": [
    "a = iris['target']\n",
    "b = np.zeros((a.size, a.max()+1))\n",
    "b[np.arange(a.size),a] = 1\n",
    "b.shape"
   ]
  }
 ],
 "metadata": {
  "kernelspec": {
   "display_name": "Python 3 (ipykernel)",
   "language": "python",
   "name": "python3"
  },
  "language_info": {
   "codemirror_mode": {
    "name": "ipython",
    "version": 3
   },
   "file_extension": ".py",
   "mimetype": "text/x-python",
   "name": "python",
   "nbconvert_exporter": "python",
   "pygments_lexer": "ipython3",
   "version": "3.8.10"
  }
 },
 "nbformat": 4,
 "nbformat_minor": 5
}
